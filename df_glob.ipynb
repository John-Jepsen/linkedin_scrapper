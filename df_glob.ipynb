{
 "cells": [
  {
   "cell_type": "markdown",
   "metadata": {},
   "source": [
    "This script needs to be moved into scrapes dir to run"
   ]
  },
  {
   "cell_type": "code",
   "execution_count": null,
   "metadata": {},
   "outputs": [],
   "source": [
    "import pandas as pd\n",
    "import glob"
   ]
  },
  {
   "cell_type": "markdown",
   "metadata": {},
   "source": [
    "# Searches all child directories with the double wildcard '**'\n",
    "## Note:\n",
    "###   - Using the “**” pattern in large directory trees may consume an inordinate amount of time.\n",
    "###   - This function may return duplicate path names if pathname contains multiple “**” patterns and recursive is true.\n"
   ]
  },
  {
   "cell_type": "code",
   "execution_count": null,
   "metadata": {},
   "outputs": [],
   "source": [
    "import pandas as pd\n",
    "import glob\n",
    "\n",
    "\n",
    "csv_files = glob.glob('**/*.csv', recursive=True)\n",
    "print(\"Found CSV files:\", csv_files)\n",
    "\n",
    "dfs = []\n",
    "for file in csv_files:\n",
    "    try:\n",
    "        df = pd.read_csv(file)\n",
    "        if not df.empty:\n",
    "            # Empty descriptions can make it through and pandas will crash\n",
    "            if 'description' in df.columns and not df['description'].isnull().all():\n",
    "                dfs.append(df)\n",
    "            else:\n",
    "                print(f\"Warning: File '{file}' does not have descriptions.\")\n",
    "        else:\n",
    "            print(f\"Warning: File '{file}' is empty.\")\n",
    "    except pd.errors.EmptyDataError:\n",
    "        print(f\"Error reading file '{file}': EmptyDataError\")\n",
    "\n",
    "if dfs:\n",
    "    merged_df = pd.concat(dfs, ignore_index=True)\n",
    "    \n",
    "    print(\"Merged DataFrame:\")\n",
    "    print(merged_df)\n",
    "    \n",
    "    print(\"Empty columns:\")\n",
    "    print(merged_df.isnull().sum())\n",
    "    \n",
    "    merged_df = merged_df.drop_duplicates().dropna()\n",
    "    \n",
    "    print(\"Cleaned DataFrame:\")\n",
    "    print(merged_df)\n",
    "    \n",
    "    merged_df.to_csv('all_ml.csv', index=False)\n",
    "    merged_df.to_excel('all_ml.xlsx', index=False)\n",
    "else:\n",
    "    print(\"Nothing to merge :X\")\n"
   ]
  }
 ],
 "metadata": {
  "kernelspec": {
   "display_name": "Python 3.9.13 ('base')",
   "language": "python",
   "name": "python3"
  },
  "language_info": {
   "codemirror_mode": {
    "name": "ipython",
    "version": 3
   },
   "file_extension": ".py",
   "mimetype": "text/x-python",
   "name": "python",
   "nbconvert_exporter": "python",
   "pygments_lexer": "ipython3",
   "version": "3.9.13"
  },
  "orig_nbformat": 4,
  "vscode": {
   "interpreter": {
    "hash": "38cca0c38332a56087b24af0bc80247f4fced29cb4f7f437d91dc159adec9c4e"
   }
  }
 },
 "nbformat": 4,
 "nbformat_minor": 2
}
