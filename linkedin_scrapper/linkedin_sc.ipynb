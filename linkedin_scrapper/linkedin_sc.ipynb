{
 "cells": [
  {
   "cell_type": "code",
   "execution_count": null,
   "metadata": {},
   "outputs": [],
   "source": [
    "from concurrent.futures import ThreadPoolExecutor\n",
    "from requests.packages.urllib3.util.retry import Retry\n",
    "from requests.adapters import HTTPAdapter\n",
    "from bs4 import BeautifulSoup\n",
    "import random\n",
    "import logging\n",
    "import threading\n",
    "import time\n",
    "import re\n",
    "import requests\n",
    "import pandas as pd"
   ]
  },
  {
   "cell_type": "code",
   "execution_count": null,
   "metadata": {},
   "outputs": [],
   "source": [
    "title = \"Machine Learning\"\n",
    "location = \"California\"\n",
    "max_pages = 5\n",
    "job_list = []"
   ]
  },
  {
   "cell_type": "code",
   "execution_count": null,
   "metadata": {},
   "outputs": [],
   "source": [
    "logging.basicConfig(level=logging.DEBUG)\n",
    "retry_strategy = Retry(\n",
    "    total = 1,\n",
    "    backoff_factor = 10,\n",
    "    status_forcelist=[429, 500, 502, 503, 504],\n",
    "    method_whitelist=[\"GET\"]\n",
    ")\n",
    "session = requests.Session()\n",
    "adapter = HTTPAdapter(max_retries=retry_strategy)\n",
    "session.mount(\"https://\", adapter)\n",
    "session.mount(\"http://\", adapter)\n",
    "logger = logging.getLogger(__name__)\n",
    "base_url = \"https://www.linkedin.com\""
   ]
  },
  {
   "cell_type": "code",
   "execution_count": null,
   "metadata": {},
   "outputs": [],
   "source": [
    "def fetch_job_details(job_id):\n",
    "    try:\n",
    "        job_url = f\"{base_url}/jobs-guest/jobs/api/jobPosting/{job_id}\"\n",
    "        response = session.get(job_url, timeout=300)\n",
    "        response.raise_for_status()\n",
    "        return response.text\n",
    "    except requests.exceptions.RequestException as e:\n",
    "        logger.error(f\"Error fetching job details for job ID {job_id}: {e}\")\n",
    "        return None"
   ]
  },
  {
   "cell_type": "code",
   "execution_count": null,
   "metadata": {},
   "outputs": [],
   "source": [
    "def extract_job_details(job_soup):\n",
    "    job_post = {}\n",
    "    job_dis_element = job_soup.find(\"section\", {\"class\": \"core-section-container my-3 description\"})\n",
    "    if job_dis_element:\n",
    "        job_dis = job_dis_element.get_text(separator=\"\\n\")\n",
    "        job_dis = re.sub(r'<[^>]*>', '', job_dis)\n",
    "        job_dis = re.sub(r'\\s+', ' ', job_dis)\n",
    "        job_post[\"description\"] = job_dis.strip()\n",
    "\n",
    "    job_post[\"job_title\"] = job_soup.find(\"h2\", {\"class\": \"top-card-layout__title\"}).text.strip()\n",
    "    job_post[\"company_name\"] = job_soup.find(\"a\", {\"class\": \"topcard__org-name-link\"}).text.strip()\n",
    "    job_post[\"time_posted\"] = job_soup.find(\"span\", {\"class\": \"posted-time-ago__text\"}).text.strip()\n",
    "    \n",
    "    num_applicants_element = job_soup.find(\"span\", {\"class\": \"num-applicants__caption\"})\n",
    "    job_post[\"num_applicants\"] = str(num_applicants_element.text).strip() if num_applicants_element else None\n",
    "    \n",
    "    return job_post\n"
   ]
  },
  {
   "cell_type": "code",
   "execution_count": null,
   "metadata": {},
   "outputs": [],
   "source": [
    "processed_job_ids = set()\n",
    "\n",
    "def process_job_listing(job):\n",
    "    base_card_div = job.find(\"div\", {\"class\": \"base-card\"})\n",
    "    if base_card_div:\n",
    "        job_id = base_card_div.get(\"data-entity-urn\")\n",
    "        if job_id and job_id not in processed_job_ids:\n",
    "            processed_job_ids.add(job_id)\n",
    "            job_id = job_id.split(\":\")[3]\n",
    "            job_details = fetch_job_details(job_id)\n",
    "            if job_details:\n",
    "                job_soup = BeautifulSoup(job_details, \"html.parser\")\n",
    "                job_post = extract_job_details(job_soup)\n",
    "                job_post[\"job_id\"] = job_id\n",
    "                return job_post\n",
    "    return None"
   ]
  },
  {
   "cell_type": "markdown",
   "metadata": {},
   "source": [
    "\n",
    "###### https://scrapeops.io/web-scraping-playbook/403-forbidden-error-web-scraping/#:~:text=Solution%E2%80%8B,scraper%20or%20a%20real%20user."
   ]
  },
  {
   "cell_type": "code",
   "execution_count": null,
   "metadata": {},
   "outputs": [],
   "source": [
    "start = 0\n",
    "while start < max_pages * 25:\n",
    "    user_agents_list = [\n",
    "    'Mozilla/5.0 (Windows NT 6.2; WOW64) AppleWebKit/537.36 (KHTML, like Gecko) Chrome/44.0.2403.155 Safari/537.36',\n",
    "    'Mozilla/5.0 (Windows NT 6.1) AppleWebKit/537.36 (KHTML, like Gecko) Chrome/41.0.2228.0 Safari/537.36',\n",
    "    'Mozilla/5.0 (Macintosh; Intel Mac OS X 10_10_1) AppleWebKit/537.36 (KHTML, like Gecko) Chrome/41.0.2227.1 Safari/537.36',\n",
    "    'Mozilla/5.0 (X11; Linux x86_64) AppleWebKit/537.36 (KHTML, like Gecko) Chrome/41.0.2227.0 Safari/537.36',\n",
    "    'Mozilla/5.0 (Windows NT 6.1; WOW64) AppleWebKit/537.36 (KHTML, like Gecko) Chrome/41.0.2227.0 Safari/537.36',\n",
    "    'Mozilla/5.0 (Windows NT 6.3; WOW64) AppleWebKit/537.36 (KHTML, like Gecko) Chrome/41.0.2226.0 Safari/537.36',\n",
    "    'Mozilla/5.0 (Windows NT 6.4; WOW64) AppleWebKit/537.36 (KHTML, like Gecko) Chrome/41.0.2225.0 Safari/537.36',\n",
    "    'Mozilla/5.0 (Windows NT 6.3; WOW64) AppleWebKit/537.36 (KHTML, like Gecko) Chrome/41.0.2225.0 Safari/537.36',\n",
    "    'Mozilla/5.0 (Windows NT 5.1) AppleWebKit/537.36 (KHTML, like Gecko) Chrome/41.0.2224.3 Safari/537.36',\n",
    "    'Mozilla/5.0 (Windows NT 10.0) AppleWebKit/537.36 (KHTML, like Gecko) Chrome/40.0.2214.93 Safari/537.36',\n",
    "    'Mozilla/5.0 (Macintosh; Intel Mac OS X 10_10_1) AppleWebKit/537.36 (KHTML, like Gecko) Chrome/37.0.2062.124 Safari/537.36',\n",
    "    'Mozilla/5.0 (Windows NT 6.3; Win64; x64) AppleWebKit/537.36 (KHTML, like Gecko) Chrome/37.0.2049.0 Safari/537.36',\n",
    "    'Mozilla/5.0 (Windows NT 4.0; WOW64) AppleWebKit/537.36 (KHTML, like Gecko) Chrome/37.0.2049.0 Safari/537.36',\n",
    "    'Mozilla/5.0 (Windows NT 6.1; WOW64) AppleWebKit/537.36 (KHTML, like Gecko) Chrome/36.0.1985.67 Safari/537.36',\n",
    "    'Mozilla/5.0 (Windows NT 5.1) AppleWebKit/537.36 (KHTML, like Gecko) Chrome/36.0.1985.67 Safari/537.36',\n",
    "    'Mozilla/5.0 (X11; OpenBSD i386) AppleWebKit/537.36 (KHTML, like Gecko) Chrome/36.0.1985.125 Safari/537.36',\n",
    "    'Mozilla/5.0 (Macintosh; Intel Mac OS X 10_9_2) AppleWebKit/537.36 (KHTML, like Gecko) Chrome/36.0.1944.0 Safari/537.36',\n",
    "    'Mozilla/5.0 (Windows NT 5.1) AppleWebKit/537.36 (KHTML, like Gecko) Chrome/35.0.3319.102 Safari/537.36',\n",
    "    'Mozilla/5.0 (Windows NT 5.1) AppleWebKit/537.36 (KHTML, like Gecko) Chrome/35.0.2309.372 Safari/537.36',\n",
    "    'Mozilla/5.0 (Windows NT 5.1) AppleWebKit/537.36 (KHTML, like Gecko) Chrome/35.0.2117.157 Safari/537.36',\n",
    "]\n",
    "\n",
    "    list_url = f\"{base_url}/jobs-guest/jobs/api/seeMoreJobPostings/search?keywords={title}&location={location}&start={start}\"\n",
    "    response = session.get(list_url, headers={'User-Agent': random.choice(user_agents_list)})\n",
    "    list_soup = BeautifulSoup(response.text, \"html.parser\")\n",
    "    page_jobs = list_soup.find_all(\"li\")\n",
    "    \n",
    "    if not page_jobs:\n",
    "        logger.warning(f\"No job listings found on page {start // 25 + 1}. Exiting Loop.\")\n",
    "        break\n",
    "\n",
    "semaphore = threading.Semaphore(2)\n",
    "\n",
    "def process_job_with_semaphore(job):\n",
    "    with semaphore:\n",
    "        return process_job_listing(job)\n",
    "\n",
    "# Use ThreadPoolExecutor with max_workers=2\n",
    "with ThreadPoolExecutor(max_workers=2) as executor:\n",
    "    job_posts = list(executor.map(process_job_with_semaphore, page_jobs))\n",
    "    job_posts = [job for job in job_posts if job is not None]\n",
    "    job_list.extend(job_posts)    \n",
    "    start += 1\n",
    "    time.sleep(2)\n",
    "\n",
    "logger.info(f\"Total job listings found: {len(job_list)}\")"
   ]
  },
  {
   "cell_type": "code",
   "execution_count": null,
   "metadata": {},
   "outputs": [],
   "source": [
    "jobss_df = pd.DataFrame(job_list)\n",
    "jobs_df = jobss_df.dropna()\n",
    "jobs_df.to_csv('cali_11_ml.csv', index = False)"
   ]
  }
 ],
 "metadata": {
  "kernelspec": {
   "display_name": "Python 3.9.13 ('base')",
   "language": "python",
   "name": "python3"
  },
  "language_info": {
   "codemirror_mode": {
    "name": "ipython",
    "version": 3
   },
   "file_extension": ".py",
   "mimetype": "text/x-python",
   "name": "python",
   "nbconvert_exporter": "python",
   "pygments_lexer": "ipython3",
   "version": "3.9.13"
  },
  "orig_nbformat": 4,
  "vscode": {
   "interpreter": {
    "hash": "38cca0c38332a56087b24af0bc80247f4fced29cb4f7f437d91dc159adec9c4e"
   }
  }
 },
 "nbformat": 4,
 "nbformat_minor": 2
}
